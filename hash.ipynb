{
 "cells": [
  {
   "cell_type": "code",
   "execution_count": 8,
   "metadata": {},
   "outputs": [],
   "source": [
    "from hashlib import md5\n",
    "\n",
    "password = md5(\"Emmanuel007\".lower().encode('utf-8')).hexdigest()\n",
    "password2 = md5(\"emmanuel007\".encode('utf-8')).hexdigest()\n",
    "password3 = md5(\"53e2bdea9dff487e984431ce04009b34\".encode('utf-8')).hexdigest()"
   ]
  },
  {
   "cell_type": "code",
   "execution_count": 9,
   "metadata": {},
   "outputs": [
    {
     "name": "stdout",
     "output_type": "stream",
     "text": [
      "53e2bdea9dff487e984431ce04009b34 and 53e2bdea9dff487e984431ce04009b34\n"
     ]
    }
   ],
   "source": [
    "print(f\"{password} and {password2}\")"
   ]
  },
  {
   "cell_type": "code",
   "execution_count": 10,
   "metadata": {},
   "outputs": [
    {
     "name": "stdout",
     "output_type": "stream",
     "text": [
      "eed6948108a647a72a4d90cfd1997376\n"
     ]
    }
   ],
   "source": [
    "print(password3)"
   ]
  },
  {
   "cell_type": "code",
   "execution_count": null,
   "metadata": {},
   "outputs": [],
   "source": []
  }
 ],
 "metadata": {
  "kernelspec": {
   "display_name": "py38",
   "language": "python",
   "name": "python3"
  },
  "language_info": {
   "codemirror_mode": {
    "name": "ipython",
    "version": 3
   },
   "file_extension": ".py",
   "mimetype": "text/x-python",
   "name": "python",
   "nbconvert_exporter": "python",
   "pygments_lexer": "ipython3",
   "version": "3.8.16"
  },
  "orig_nbformat": 4,
  "vscode": {
   "interpreter": {
    "hash": "1a66b93b179eaa6a271b454f306f50f63fedd9fb74cb6f9e836ac79b663dd544"
   }
  }
 },
 "nbformat": 4,
 "nbformat_minor": 2
}
